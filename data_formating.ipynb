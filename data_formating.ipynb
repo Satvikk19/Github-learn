{
  "nbformat": 4,
  "nbformat_minor": 0,
  "metadata": {
    "colab": {
      "provenance": [],
      "authorship_tag": "ABX9TyNEUC4xWsTe/u2eEBGVOMl2",
      "include_colab_link": true
    },
    "kernelspec": {
      "name": "python3",
      "display_name": "Python 3"
    },
    "language_info": {
      "name": "python"
    }
  },
  "cells": [
    {
      "cell_type": "markdown",
      "metadata": {
        "id": "view-in-github",
        "colab_type": "text"
      },
      "source": [
        "<a href=\"https://colab.research.google.com/github/Satvikk19/Github-learn/blob/main/data_formating.ipynb\" target=\"_parent\"><img src=\"https://colab.research.google.com/assets/colab-badge.svg\" alt=\"Open In Colab\"/></a>"
      ]
    },
    {
      "cell_type": "code",
      "execution_count": 7,
      "metadata": {
        "id": "D522g1HUSzgw"
      },
      "outputs": [],
      "source": [
        "import pandas as pd\n",
        "import numpy as np\n",
        "\n",
        "# Load the data\n",
        "df = pd.read_csv(\"hello.csv\")\n",
        "\n",
        "# Create an empty list to store the reshaped data\n",
        "reshaped_data = []\n",
        "\n",
        "# Iterate over each row in the original dataframe\n",
        "for index, row in df.iterrows():\n",
        "    # Iterate over each set of (name, link, email)\n",
        "    for i in range(1, 4):\n",
        "        # Get the company info\n",
        "        company_info = row[['Startup name', 'H1 startup', 'Desc Startup', 'How big', 'Website']]\n",
        "\n",
        "        # Get the employee info\n",
        "        employee_info = {}\n",
        "        if 'Name ' + str(i) in df.columns:\n",
        "            employee_info['Name'] = row['Name ' + str(i)]\n",
        "        else:\n",
        "            employee_info['Name'] = np.nan\n",
        "\n",
        "        if 'Link ' + str(i) in df.columns:\n",
        "            employee_info['Link'] = row['Link ' + str(i)]\n",
        "        else:\n",
        "            employee_info['Link'] = np.nan\n",
        "\n",
        "        if 'Email ' + str(i) in df.columns:\n",
        "            employee_info['Email'] = row['Email ' + str(i)]\n",
        "        else:\n",
        "            employee_info['Email'] = np.nan\n",
        "\n",
        "        # Combine the company info and employee info\n",
        "        combined_info = {**company_info, **employee_info}\n",
        "\n",
        "        # Append the combined info to the reshaped data list\n",
        "        reshaped_data.append(combined_info)\n",
        "\n",
        "# Create a DataFrame from the reshaped data\n",
        "reshaped_df = pd.DataFrame(reshaped_data)\n",
        "\n",
        "# Define the column order\n",
        "columns = ['Startup name', 'H1 startup', 'Desc Startup', 'How big', 'Website', 'Name', 'Link', 'Email']\n",
        "\n",
        "# Reorder the columns in the reshaped dataframe\n",
        "reshaped_df = reshaped_df[columns]\n",
        "\n",
        "# Save the reshaped dataframe to a new csv file\n",
        "reshaped_df.to_csv(\"reshaped_ycai.csv\", index=False)\n"
      ]
    }
  ]
}